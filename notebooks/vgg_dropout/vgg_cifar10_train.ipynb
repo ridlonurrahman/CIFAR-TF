{
 "cells": [
  {
   "cell_type": "code",
   "execution_count": null,
   "metadata": {
    "collapsed": false
   },
   "outputs": [],
   "source": [
    "from __future__ import absolute_import\n",
    "from __future__ import division\n",
    "from __future__ import print_function\n",
    "from datetime import datetime\n",
    "from train import *\n",
    "from loss import *\n",
    "from accuracy import *\n",
    "from model import *\n",
    "\n",
    "import cifar_input\n",
    "import os.path\n",
    "import time\n",
    "import numpy as np\n",
    "import tensorflow as tf"
   ]
  },
  {
   "cell_type": "code",
   "execution_count": null,
   "metadata": {
    "collapsed": true
   },
   "outputs": [],
   "source": [
    "max_steps = 50000\n",
    "train_dir = 'cifar10_vgg_model/'\n",
    "batch_size = 128\n",
    "log_device_placement = False"
   ]
  },
  {
   "cell_type": "code",
   "execution_count": null,
   "metadata": {
    "collapsed": false,
    "scrolled": true
   },
   "outputs": [],
   "source": [
    "with tf.Graph().as_default():\n",
    "    global_step = tf.contrib.framework.get_or_create_global_step()\n",
    "    \n",
    "    # Generating images and its labels\n",
    "    # build_inputs('cifar10/cifar100', cifar dataset dir, batch size, mode)\n",
    "    images, labels = cifar_input.build_input('cifar10', '../../cifar/cifar10/data_batch*', batch_size, 'train')\n",
    "    \n",
    "    # Creating graph. NUM_CLASESS=10 (CIFAR-10) or NUM_CLASESS=100 (CIFAR-100)\n",
    "    logits = inference(images, NUM_CLASSES=10)\n",
    "    \n",
    "    # Loss/Error and Accuracy\n",
    "    losses = loss(logits, labels)\n",
    "    accuracies = accuracy(logits, labels)\n",
    "    \n",
    "    # Our train_op (Only minimizing loss)\n",
    "    train_op = train(losses, global_step, batch_size)\n",
    "    \n",
    "    \n",
    "    # SessionRunHook. Logging will be done each x steps.\n",
    "    class _LoggerHook(tf.train.SessionRunHook):\n",
    "        \n",
    "      def begin(self):\n",
    "        self._step = -1\n",
    "        # Creating train_dir if it does not exist and writing to log file\n",
    "        if not os.path.exists(train_dir):\n",
    "            os.makedirs(train_dir)\n",
    "        open(train_dir+'training_data.csv', 'w').close()\n",
    "        f = open(train_dir+\"log.txt\",'ab')\n",
    "        f.write('\\n\\n==== Run ===\\nInfo: VGG\\n')\n",
    "        f.close()\n",
    "\n",
    "      def before_run(self, run_context):\n",
    "        # Increment step, reset start_time, and asking for loss and accuracy tensor\n",
    "        self._step += 1\n",
    "        self._start_time = time.time()\n",
    "        return tf.train.SessionRunArgs([losses, accuracies])\n",
    "\n",
    "      def after_run(self, run_context, run_values):\n",
    "        duration = time.time() - self._start_time # Calculating time\n",
    "        loss_value = run_values.results[0]\n",
    "        accuracy_value = run_values.results[1]\n",
    "        # Printing log, accuracy, and loss\n",
    "        if self._step % 10 == 0:\n",
    "          print(\"{0}: step {1}, error = {2:.4f}, accuracy = {3:.4f}. ({4:.3f} sec/step)\\n\".format(\n",
    "              datetime.now(), self._step, loss_value, accuracy_value, float(duration)))\n",
    "                \n",
    "          f = open(train_dir+\"log.txt\",'ab')\n",
    "          f.write(\"{0}: step {1}, error = {2:.4f}, accuracy = {3:.4f}. ({4:.3f} sec/step)\\n\".format(\n",
    "              datetime.now(), self._step, loss_value, accuracy_value, float(duration)))\n",
    "          f.close()\n",
    "                \n",
    "          f = open(train_dir+\"training_data.csv\",'ab')\n",
    "          f.write('{0},{1},{2}\\n'.format(self._step, loss_value, accuracy_value))\n",
    "          f.close()\n",
    "            \n",
    "    with tf.train.MonitoredTrainingSession(checkpoint_dir=train_dir,\n",
    "                                           hooks=[tf.train.StopAtStepHook(last_step=max_steps),\n",
    "                                                  tf.train.NanTensorHook(losses),\n",
    "                                                  _LoggerHook()],save_checkpoint_secs=30, \n",
    "                                           config=tf.ConfigProto(\n",
    "                                               log_device_placement=log_device_placement)) as mon_sess:\n",
    "        while not mon_sess.should_stop():\n",
    "            mon_sess.run(train_op)"
   ]
  }
 ],
 "metadata": {
  "kernelspec": {
   "display_name": "Python 2",
   "language": "python",
   "name": "python2"
  },
  "language_info": {
   "codemirror_mode": {
    "name": "ipython",
    "version": 2
   },
   "file_extension": ".py",
   "mimetype": "text/x-python",
   "name": "python",
   "nbconvert_exporter": "python",
   "pygments_lexer": "ipython2",
   "version": "2.7.13"
  }
 },
 "nbformat": 4,
 "nbformat_minor": 2
}
