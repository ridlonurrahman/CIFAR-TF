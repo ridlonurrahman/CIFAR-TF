{
 "cells": [
  {
   "cell_type": "code",
   "execution_count": 1,
   "metadata": {
    "collapsed": false
   },
   "outputs": [],
   "source": [
    "from __future__ import absolute_import\n",
    "from __future__ import division\n",
    "from __future__ import print_function\n",
    "\n",
    "from datetime import datetime\n",
    "import os.path\n",
    "import time\n",
    "import six\n",
    "\n",
    "import numpy as np\n",
    "import tensorflow as tf\n",
    "\n",
    "import cifar_input\n",
    "from train import *\n",
    "from loss import *\n",
    "from accuracy import *\n",
    "from model import *\n",
    "\n",
    "\n",
    "train_dir = 'cifar10_vgg_model/'\n",
    "batch_size = 128\n",
    "log_device_placement = False"
   ]
  },
  {
   "cell_type": "code",
   "execution_count": null,
   "metadata": {
    "collapsed": false
   },
   "outputs": [],
   "source": [
    "def evaluate():\n",
    "  eval_batch_count = 50\n",
    "  validation_error=0\n",
    "  validation_accuracy=0\n",
    "  \"\"\"Eval CIFAR-10 for a number of steps.\"\"\"\n",
    "  with tf.device('/cpu:0'):\n",
    "      with tf.Graph().as_default() as g:\n",
    "        # Get images and labels for CIFAR-10.\n",
    "        images, labels = cifar_input.build_input('cifar10', '../../cifar/cifar10/test_batch.bin', batch_size, 'eval')\n",
    "\n",
    "        # Build a Graph that computes the logits predictions from the\n",
    "        # inference model.\n",
    "        logits = inference(images, NUM_CLASSES=10)\n",
    "        saver = tf.train.Saver()\n",
    "        \n",
    "        losses = loss(logits, labels)\n",
    "    \n",
    "        accuracies = accuracy(logits, labels)\n",
    "        #summary_writer = tf.summary.FileWriter(FLAGS.eval_dir)\n",
    "\n",
    "        sess = tf.Session(config=tf.ConfigProto(allow_soft_placement=True))\n",
    "        tf.train.start_queue_runners(sess)\n",
    "\n",
    "        best_precision = 0.0\n",
    "        try:\n",
    "          ckpt_state = tf.train.get_checkpoint_state(train_dir)\n",
    "        except tf.errors.OutOfRangeError as e:\n",
    "          tf.logging.error('Cannot restore checkpoint: %s', e)\n",
    "        if not (ckpt_state and ckpt_state.model_checkpoint_path):\n",
    "          tf.logging.info('No model to eval yet at %s', train_dir)\n",
    "        tf.logging.info('Loading checkpoint %s', ckpt_state.model_checkpoint_path)\n",
    "        saver.restore(sess, ckpt_state.model_checkpoint_path)\n",
    "\n",
    "        total_prediction, correct_prediction = 0, 0\n",
    "        for _ in six.moves.range(eval_batch_count):\n",
    "          (value_losses, value_accuracy) = sess.run(\n",
    "              [losses, accuracies])\n",
    "          validation_error += value_losses\n",
    "          validation_accuracy += value_accuracy\n",
    "        validation_error /= 50\n",
    "        validation_accuracy /= 50\n",
    "        \n",
    "        step = str(ckpt_state.model_checkpoint_path).split('-')[1]\n",
    "        tf.logging.info('loss: %.3f, best accuracy: %.3f' %\n",
    "                        (validation_error, validation_accuracy))\n",
    "        f = open(train_dir+\"validation_data.csv\",'ab')\n",
    "        f.write('{0},{1},{2}\\n'.format(step, validation_error,validation_accuracy))\n",
    "        f.close()\n",
    "        f = open(train_dir+\"log.txt\",'ab')\n",
    "        f.write('loss: {0}, best accuracy: {1}\\n'.format(validation_error, validation_accuracy))\n",
    "        f.close()"
   ]
  },
  {
   "cell_type": "code",
   "execution_count": null,
   "metadata": {
    "collapsed": false
   },
   "outputs": [
    {
     "name": "stdout",
     "output_type": "stream",
     "text": [
      "INFO:tensorflow:Loading checkpoint cifar10_vgg_model/model.ckpt-1\n",
      "INFO:tensorflow:loss: 20.703, best accuracy: 0.103\n",
      "INFO:tensorflow:Loading checkpoint cifar10_vgg_model/model.ckpt-94\n",
      "INFO:tensorflow:loss: 14.197, best accuracy: 0.215\n",
      "INFO:tensorflow:Loading checkpoint cifar10_vgg_model/model.ckpt-184\n",
      "INFO:tensorflow:loss: 13.080, best accuracy: 0.344\n",
      "INFO:tensorflow:Loading checkpoint cifar10_vgg_model/model.ckpt-276\n",
      "INFO:tensorflow:loss: 12.124, best accuracy: 0.386\n",
      "INFO:tensorflow:Loading checkpoint cifar10_vgg_model/model.ckpt-458\n",
      "INFO:tensorflow:loss: 10.508, best accuracy: 0.447\n",
      "INFO:tensorflow:Loading checkpoint cifar10_vgg_model/model.ckpt-546\n",
      "INFO:tensorflow:loss: 9.885, best accuracy: 0.465\n",
      "INFO:tensorflow:Loading checkpoint cifar10_vgg_model/model.ckpt-634\n",
      "INFO:tensorflow:loss: 9.339, best accuracy: 0.458\n",
      "INFO:tensorflow:Loading checkpoint cifar10_vgg_model/model.ckpt-723\n",
      "INFO:tensorflow:loss: 8.733, best accuracy: 0.493\n",
      "INFO:tensorflow:Loading checkpoint cifar10_vgg_model/model.ckpt-812\n",
      "INFO:tensorflow:loss: 8.061, best accuracy: 0.553\n",
      "INFO:tensorflow:Loading checkpoint cifar10_vgg_model/model.ckpt-902\n",
      "INFO:tensorflow:loss: 7.753, best accuracy: 0.481\n",
      "INFO:tensorflow:Loading checkpoint cifar10_vgg_model/model.ckpt-992\n",
      "INFO:tensorflow:loss: 7.151, best accuracy: 0.562\n",
      "INFO:tensorflow:Loading checkpoint cifar10_vgg_model/model.ckpt-1082\n",
      "INFO:tensorflow:loss: 6.726, best accuracy: 0.568\n",
      "INFO:tensorflow:Loading checkpoint cifar10_vgg_model/model.ckpt-1172\n",
      "INFO:tensorflow:loss: 6.542, best accuracy: 0.497\n",
      "INFO:tensorflow:Loading checkpoint cifar10_vgg_model/model.ckpt-1262\n",
      "INFO:tensorflow:loss: 5.939, best accuracy: 0.590\n",
      "INFO:tensorflow:Loading checkpoint cifar10_vgg_model/model.ckpt-1441\n",
      "INFO:tensorflow:loss: 5.176, best accuracy: 0.643\n",
      "INFO:tensorflow:Loading checkpoint cifar10_vgg_model/model.ckpt-1529\n",
      "INFO:tensorflow:loss: 4.981, best accuracy: 0.605\n",
      "INFO:tensorflow:Loading checkpoint cifar10_vgg_model/model.ckpt-1617\n",
      "INFO:tensorflow:loss: 4.560, best accuracy: 0.673\n",
      "INFO:tensorflow:Loading checkpoint cifar10_vgg_model/model.ckpt-1706\n",
      "INFO:tensorflow:loss: 4.353, best accuracy: 0.654\n",
      "INFO:tensorflow:Loading checkpoint cifar10_vgg_model/model.ckpt-1795\n",
      "INFO:tensorflow:loss: 4.098, best accuracy: 0.662\n",
      "INFO:tensorflow:Loading checkpoint cifar10_vgg_model/model.ckpt-1885\n",
      "INFO:tensorflow:loss: 3.861, best accuracy: 0.681\n",
      "INFO:tensorflow:Loading checkpoint cifar10_vgg_model/model.ckpt-1975\n",
      "INFO:tensorflow:loss: 3.573, best accuracy: 0.704\n",
      "INFO:tensorflow:Loading checkpoint cifar10_vgg_model/model.ckpt-2065\n",
      "INFO:tensorflow:loss: 3.527, best accuracy: 0.672\n",
      "INFO:tensorflow:Loading checkpoint cifar10_vgg_model/model.ckpt-2155\n",
      "INFO:tensorflow:loss: 3.309, best accuracy: 0.677\n"
     ]
    }
   ],
   "source": [
    "if not os.path.exists(train_dir):\n",
    "    os.makedirs(train_dir)\n",
    "open(train_dir+'validation_data.csv', 'w').close()\n",
    "while True:\n",
    "    evaluate()\n",
    "    time.sleep(15)"
   ]
  }
 ],
 "metadata": {
  "kernelspec": {
   "display_name": "Python 2",
   "language": "python",
   "name": "python2"
  },
  "language_info": {
   "codemirror_mode": {
    "name": "ipython",
    "version": 2
   },
   "file_extension": ".py",
   "mimetype": "text/x-python",
   "name": "python",
   "nbconvert_exporter": "python",
   "pygments_lexer": "ipython2",
   "version": "2.7.13"
  }
 },
 "nbformat": 4,
 "nbformat_minor": 2
}
