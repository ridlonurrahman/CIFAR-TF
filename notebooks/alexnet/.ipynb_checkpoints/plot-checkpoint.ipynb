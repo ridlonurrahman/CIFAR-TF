{
 "cells": [
  {
   "cell_type": "code",
   "execution_count": null,
   "metadata": {
    "collapsed": false
   },
   "outputs": [],
   "source": [
    "import numpy as np\n",
    "import pandas as pd\n",
    "import matplotlib.pyplot as plt\n",
    "%matplotlib inline\n",
    "\n",
    "batch_size = 128\n",
    "train_dir = 'cifar10_alexnet_model/'"
   ]
  },
  {
   "cell_type": "code",
   "execution_count": null,
   "metadata": {
    "collapsed": false
   },
   "outputs": [],
   "source": [
    "training_data = np.genfromtxt (train_dir+'training_data.csv', delimiter=\",\")\n",
    "validation_data = np.genfromtxt (train_dir+'validation_data.csv', delimiter=\",\")"
   ]
  },
  {
   "cell_type": "code",
   "execution_count": null,
   "metadata": {
    "collapsed": false
   },
   "outputs": [],
   "source": [
    "validation_data = np.array(map(lambda x: [((x[0]-x[0]%10)/float(50000/float(batch_size))),x[1],x[2]],validation_data))\n",
    "training_data = np.array(map(lambda x: [x[0]/(50000/float(batch_size)),x[1],x[2]], training_data))"
   ]
  },
  {
   "cell_type": "code",
   "execution_count": null,
   "metadata": {
    "collapsed": false
   },
   "outputs": [],
   "source": [
    "training_df = pd.DataFrame(training_data, index=training_data.transpose()[0],columns=['step','error','accuracy'])\n",
    "validation_df = pd.DataFrame(validation_data, index=validation_data.transpose()[0],columns=['step','error','accuracy'])"
   ]
  },
  {
   "cell_type": "code",
   "execution_count": null,
   "metadata": {
    "collapsed": false
   },
   "outputs": [],
   "source": [
    "plot_df = pd.merge(training_df,validation_df,how='inner',on=['step','step'])"
   ]
  },
  {
   "cell_type": "code",
   "execution_count": null,
   "metadata": {
    "collapsed": false
   },
   "outputs": [],
   "source": [
    "plot_data = plot_df.as_matrix().transpose()"
   ]
  },
  {
   "cell_type": "code",
   "execution_count": null,
   "metadata": {
    "collapsed": false,
    "scrolled": true
   },
   "outputs": [],
   "source": [
    "ax = plt.figure()\n",
    "plt.figure(figsize=(15,5))\n",
    "\n",
    "plt.subplot(121)\n",
    "plt.plot(plot_data[0], plot_data[1], 'b-', label='Alexnet (training)')\n",
    "plt.plot(plot_data[0], plot_data[3], 'r--', label='Alexnet (validation)')\n",
    "'''plt.plot(err_train_tanh.keys(), err_train_tanh.values(), 'b-', label='tanh (training)')\n",
    "plt.plot(err_valid_tanh.keys(), err_valid_tanh.values(), 'b--', label='tanh (validation)')\n",
    "plt.plot(err_train_relu.keys(), err_train_relu.values(), 'g-', label='relu (training)')\n",
    "plt.plot(err_valid_relu.keys(), err_valid_relu.values(), 'g--', label='relu (validation)')'''\n",
    "plt.title('Error training and validation')\n",
    "plt.grid(True)\n",
    "plt.xlabel('Epoch')\n",
    "plt.ylabel('Error')\n",
    "plt.legend(loc='lower left', fontsize='medium')\n",
    "\n",
    "plt.subplot(122)\n",
    "plt.plot(plot_data[0], plot_data[2], 'b-', label='Alexnet (training)')\n",
    "plt.plot(plot_data[0], plot_data[4], 'r--', label='Alexnet (validation)')\n",
    "'''plt.plot(acc_train_tanh.keys(), acc_train_tanh.values(), 'b-', label='tanh (training)')\n",
    "plt.plot(acc_valid_tanh.keys(), acc_valid_tanh.values(), 'b--', label='tanh (validation)')\n",
    "plt.plot(acc_train_relu.keys(), acc_train_relu.values(), 'g-', label='relu (training)')\n",
    "plt.plot(acc_valid_relu.keys(), acc_valid_relu.values(), 'g--', label='relu (validation)')'''\n",
    "plt.title('Accuracy training and validation')\n",
    "plt.grid(True)\n",
    "plt.xlabel('Epoch')\n",
    "plt.ylabel('Accuracy')\n",
    "plt.legend(loc='lower right', fontsize='medium')\n",
    "\n",
    "plt.savefig('images/alexnet.pdf', bbox_inches='tight')\n",
    "plt.show()"
   ]
  },
  {
   "cell_type": "code",
   "execution_count": null,
   "metadata": {
    "collapsed": false
   },
   "outputs": [],
   "source": [
    "import numpy as np\n",
    "import pandas as pd\n",
    "import matplotlib.pyplot as plt\n",
    "%matplotlib inline\n",
    "\n",
    "batch_size = 128\n",
    "train_dir = 'cifar100_alexnet_model/'"
   ]
  },
  {
   "cell_type": "code",
   "execution_count": null,
   "metadata": {
    "collapsed": false
   },
   "outputs": [],
   "source": [
    "training_data = np.genfromtxt (train_dir+'training_data.csv', delimiter=\",\")\n",
    "validation_data = np.genfromtxt (train_dir+'validation_data.csv', delimiter=\",\")"
   ]
  },
  {
   "cell_type": "code",
   "execution_count": null,
   "metadata": {
    "collapsed": false
   },
   "outputs": [],
   "source": [
    "validation_data = np.array(map(lambda x: [((x[0]-x[0]%10)/float(50000/float(batch_size))),x[1],x[2]],validation_data))\n",
    "training_data = np.array(map(lambda x: [x[0]/(50000/float(batch_size)),x[1],x[2]], training_data))"
   ]
  },
  {
   "cell_type": "code",
   "execution_count": null,
   "metadata": {
    "collapsed": false
   },
   "outputs": [],
   "source": [
    "training_df = pd.DataFrame(training_data, index=training_data.transpose()[0],columns=['step','error','accuracy'])\n",
    "validation_df = pd.DataFrame(validation_data, index=validation_data.transpose()[0],columns=['step','error','accuracy'])"
   ]
  },
  {
   "cell_type": "code",
   "execution_count": null,
   "metadata": {
    "collapsed": false
   },
   "outputs": [],
   "source": [
    "plot_df = pd.merge(training_df,validation_df,how='inner',on=['step','step'])"
   ]
  },
  {
   "cell_type": "code",
   "execution_count": null,
   "metadata": {
    "collapsed": false
   },
   "outputs": [],
   "source": [
    "plot_data = plot_df.as_matrix().transpose()"
   ]
  },
  {
   "cell_type": "code",
   "execution_count": null,
   "metadata": {
    "collapsed": false
   },
   "outputs": [],
   "source": [
    "ax = plt.figure()\n",
    "plt.figure(figsize=(15,5))\n",
    "\n",
    "plt.subplot(121)\n",
    "plt.plot(plot_data[0], plot_data[1], 'r-', label='Alexnet (training)')\n",
    "plt.plot(plot_data[0], plot_data[3], 'r--', label='Alexnet (validation)')\n",
    "'''plt.plot(err_train_tanh.keys(), err_train_tanh.values(), 'b-', label='tanh (training)')\n",
    "plt.plot(err_valid_tanh.keys(), err_valid_tanh.values(), 'b--', label='tanh (validation)')\n",
    "plt.plot(err_train_relu.keys(), err_train_relu.values(), 'g-', label='relu (training)')\n",
    "plt.plot(err_valid_relu.keys(), err_valid_relu.values(), 'g--', label='relu (validation)')'''\n",
    "plt.title('Error training and validation')\n",
    "plt.grid(True)\n",
    "plt.xlabel('Epoch')\n",
    "plt.ylabel('Error')\n",
    "plt.legend(loc='lower left', fontsize='medium')\n",
    "\n",
    "plt.subplot(122)\n",
    "plt.plot(plot_data[0], plot_data[2], 'r-', label='Alexnet (training)')\n",
    "plt.plot(plot_data[0], plot_data[4], 'r--', label='Alexnet (validation)')\n",
    "'''plt.plot(acc_train_tanh.keys(), acc_train_tanh.values(), 'b-', label='tanh (training)')\n",
    "plt.plot(acc_valid_tanh.keys(), acc_valid_tanh.values(), 'b--', label='tanh (validation)')\n",
    "plt.plot(acc_train_relu.keys(), acc_train_relu.values(), 'g-', label='relu (training)')\n",
    "plt.plot(acc_valid_relu.keys(), acc_valid_relu.values(), 'g--', label='relu (validation)')'''\n",
    "plt.title('Accuracy training and validation')\n",
    "plt.grid(True)\n",
    "plt.xlabel('Epoch')\n",
    "plt.ylabel('Accuracy')\n",
    "plt.legend(loc='lower right', fontsize='medium')\n",
    "\n",
    "#plt.savefig('activation_functions.pdf', bbox_inches='tight')\n",
    "plt.show()"
   ]
  }
 ],
 "metadata": {
  "kernelspec": {
   "display_name": "Python 2",
   "language": "python",
   "name": "python2"
  },
  "language_info": {
   "codemirror_mode": {
    "name": "ipython",
    "version": 2
   },
   "file_extension": ".py",
   "mimetype": "text/x-python",
   "name": "python",
   "nbconvert_exporter": "python",
   "pygments_lexer": "ipython2",
   "version": "2.7.13"
  }
 },
 "nbformat": 4,
 "nbformat_minor": 2
}
